{
 "cells": [
  {
   "cell_type": "code",
   "execution_count": null,
   "metadata": {},
   "outputs": [],
   "source": [
    "import plotly\n",
    "import plotly.graph_objs as go\n",
    "plotly.offline.init_notebook_mode()\n",
    "from utils import read_json\n",
    "import numpy as np\n",
    "import pandas as pd"
   ]
  },
  {
   "cell_type": "markdown",
   "metadata": {},
   "source": [
    "### Data  Manipulation"
   ]
  },
  {
   "cell_type": "code",
   "execution_count": null,
   "metadata": {},
   "outputs": [],
   "source": [
    "transactions = read_json('transactions.json')\n",
    "projects_json = read_json('projects.json')\n",
    "wallet2user = read_json('wallet2user.json')"
   ]
  },
  {
   "cell_type": "code",
   "execution_count": null,
   "metadata": {},
   "outputs": [],
   "source": [
    "projects_wallets_to_ids = dict()\n",
    "projects_wallets = set()\n",
    "for x in projects_json:\n",
    "    projects_wallets_to_ids[\"0x%s\" % x['wallet']] = x['id'] \n",
    "    projects_wallets |= {\"0x%s\" % x['wallet']}"
   ]
  },
  {
   "cell_type": "code",
   "execution_count": null,
   "metadata": {},
   "outputs": [],
   "source": [
    "investors = []\n",
    "projects = []\n",
    "timestamps = []\n",
    "EXP_invested = []\n",
    "for investor in transactions['from_to_amount']:\n",
    "    for potential_project in transactions['from_to_amount'][investor]:\n",
    "        if potential_project in projects_wallets:\n",
    "            # Is a project\n",
    "            for investment in transactions['from_to_amount'][investor][potential_project]:\n",
    "                investors.append(investor)\n",
    "                projects.append(potential_project)\n",
    "                timestamps.append(investment['timestamp'])\n",
    "                EXP_invested.append(investment['balance'])            "
   ]
  },
  {
   "cell_type": "code",
   "execution_count": null,
   "metadata": {},
   "outputs": [],
   "source": [
    "# Investors, projects, TIMESTAMPS, EXP\n",
    "sorted_investments = sorted(zip(investors, projects, timestamps, EXP_invested), key= lambda x: x[2])\n"
   ]
  },
  {
   "cell_type": "code",
   "execution_count": null,
   "metadata": {},
   "outputs": [],
   "source": [
    "# Graphs and table\n",
    "graph1 = []\n",
    "table1 = []\n",
    "index1 = []\n",
    "N = len(list(set(investors)))\n",
    "c= ['hsl('+str(h)+',50%'+',50%)' for h in np.linspace(0, 360, N)]\n",
    "for i, investor in enumerate(list(set(investors))):\n",
    "    if investor in wallet2user:\n",
    "        investor_name = wallet2user[investor]['user']\n",
    "    else:\n",
    "        investor_name = investor\n",
    "    invests = [t for t in sorted_investments if t[0]==investor]\n",
    "    invests_projects = list({t[1] for t in invests})\n",
    "\n",
    "    for project in invests_projects:\n",
    "        if project in projects_wallets_to_ids:\n",
    "            project_name = projects_wallets_to_ids[project]\n",
    "        else:\n",
    "            project_name = project\n",
    "        \n",
    "        x_axis = [t[2] for t in sorted_investments if t[0]==investor and t[1]==project and t[3]>10]\n",
    "        y_axis = [t[3] for t in sorted_investments if t[0]==investor and t[1]==project and t[3]>10]\n",
    "        if x_axis: \n",
    "            graph1.append(\n",
    "                plotly.graph_objs.Scatter(\n",
    "                    x=x_axis,\n",
    "                    y=y_axis, \n",
    "                    name='%s, Project%s' % (investor_name, project_name),\n",
    "                    marker=dict(color=c[i])\n",
    "                )\n",
    "            )\n",
    "    \n",
    "    # Append investor name\n",
    "    index1.append(investor_name)\n",
    "    \n",
    "    # Get total balance and invested\n",
    "    EXP_balance = wallet2user[investor]['balance']\n",
    "    EXP_invested = sum([t[3] for t in sorted_investments if t[0]==investor]) \n",
    "    \n",
    "    table1.append([EXP_balance, EXP_invested])\n",
    "\n",
    "# Sort table by balance\n",
    "sorted_table = sorted(zip(table1, index1), key=lambda x: x[0][0])[::-1]\n",
    "table1 = []\n",
    "index1 = []\n",
    "for x in sorted_table:\n",
    "    table1.append(x[0])\n",
    "    index1.append(x[1])\n",
    "    \n",
    "graph2 = []\n",
    "N = len(list(projects_wallets))\n",
    "c = ['hsl('+str(h)+',50%'+',50%)' for h in np.linspace(0, 360, N)]\n",
    "for i, project in enumerate(list(projects_wallets)):\n",
    "    if project in projects_wallets_to_ids:\n",
    "        project_name = projects_wallets_to_ids[project]\n",
    "    else:\n",
    "        project_name = project\n",
    "\n",
    "    x_axis = [t[2] for t in sorted_investments if t[1]==project]\n",
    "    y_axis = [t[3] for t in sorted_investments if t[1]==project]\n",
    "    y_axis = [sum(y_axis[:p+1]) for p, y in enumerate(y_axis)]\n",
    "    if x_axis and y_axis[-1] > 10: \n",
    "            graph2.append(\n",
    "                plotly.graph_objs.Scatter(\n",
    "                    x=x_axis,\n",
    "                    y=y_axis, \n",
    "                    name='Project%s' % (project_name),\n",
    "                    marker=dict(color=c[i])\n",
    "                )\n",
    "            )\n",
    "\n",
    "# Top EXP left table\n",
    "balances_users = [(wallet2user[x]['balance'], wallet2user[x]['user']) for x in wallet2user\n",
    "                  if all(y in wallet2user[x] for y in ['user', 'balance'])]\n",
    "# Pick top 20\n",
    "sorted_balances_users = sorted(balances_users, key=lambda x:x[0])[::-1][:20]\n",
    "table2 = [x[0] for x in sorted_balances_users]\n",
    "index2 = [x[1] for x in sorted_balances_users]\n",
    "# Add total\n",
    "table2.append(sum(table2))\n",
    "index2.append('TOTAL')"
   ]
  },
  {
   "cell_type": "markdown",
   "metadata": {},
   "source": [
    "# EXP Invested by each Investor over time  (> 10EXP) "
   ]
  },
  {
   "cell_type": "code",
   "execution_count": null,
   "metadata": {},
   "outputs": [],
   "source": [
    "layout = go.Layout(\n",
    "    title='EXP invested by each investor over time (per project) (> 10EXP)', \n",
    "    xaxis={'title' : 'Time'}, \n",
    "    yaxis={'title' : 'EXP'}\n",
    ")\n",
    "fig = go.Figure(\n",
    "    data=graph1, \n",
    "    layout=layout\n",
    ")\n",
    "plotly.offline.iplot(fig)"
   ]
  },
  {
   "cell_type": "markdown",
   "metadata": {},
   "source": [
    "# Total EXP invested in each Project over Time (> 10EXP)"
   ]
  },
  {
   "cell_type": "code",
   "execution_count": null,
   "metadata": {},
   "outputs": [],
   "source": [
    "layout = go.Layout(\n",
    "    title='Total EXP invested in each Project over time (> 10EXP)', \n",
    "    xaxis={'title' : 'Time'}, \n",
    "    yaxis={'title' : 'EXP'}\n",
    ")\n",
    "fig = go.Figure(\n",
    "    data=graph2, \n",
    "    layout=layout\n",
    ")\n",
    "plotly.offline.iplot(fig)"
   ]
  },
  {
   "cell_type": "markdown",
   "metadata": {},
   "source": [
    "# Top Investors (EXP Balance and Invested)"
   ]
  },
  {
   "cell_type": "code",
   "execution_count": null,
   "metadata": {},
   "outputs": [],
   "source": [
    "print(\"Top Investors (EXP Balance and Invested)\")\n",
    "pd.DataFrame(\n",
    "    data=table1,\n",
    "    index = index1,\n",
    "    columns=['EXP Balance', 'EXP Invested']\n",
    ")"
   ]
  },
  {
   "cell_type": "markdown",
   "metadata": {},
   "source": [
    "# Top 20 Balances "
   ]
  },
  {
   "cell_type": "code",
   "execution_count": null,
   "metadata": {},
   "outputs": [],
   "source": [
    "print(\"Top 20 Balances\")\n",
    "pd.DataFrame(\n",
    "    data=table2,\n",
    "    index = index2,\n",
    "    columns=['EXP Balance']\n",
    ")"
   ]
  },
  {
   "cell_type": "code",
   "execution_count": null,
   "metadata": {},
   "outputs": [],
   "source": []
  }
 ],
 "metadata": {
  "kernelspec": {
   "display_name": "Python 3",
   "language": "python",
   "name": "python3"
  },
  "language_info": {
   "codemirror_mode": {
    "name": "ipython",
    "version": 3
   },
   "file_extension": ".py",
   "mimetype": "text/x-python",
   "name": "python",
   "nbconvert_exporter": "python",
   "pygments_lexer": "ipython3",
   "version": "3.5.2"
  }
 },
 "nbformat": 4,
 "nbformat_minor": 2
}
